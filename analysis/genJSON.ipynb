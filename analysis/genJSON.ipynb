{
 "cells": [
  {
   "cell_type": "code",
   "execution_count": 120,
   "metadata": {},
   "outputs": [],
   "source": [
    "import pandas as pd\n",
    "import numpy as np\n"
   ]
  },
  {
   "cell_type": "code",
   "execution_count": 156,
   "metadata": {},
   "outputs": [],
   "source": [
    "d = pd.read_csv('graph_inference_sets.csv')"
   ]
  },
  {
   "cell_type": "code",
   "execution_count": 157,
   "metadata": {},
   "outputs": [
    {
     "ename": "AttributeError",
     "evalue": "'DataFrameGroupBy' object has no attribute 'to_json'",
     "output_type": "error",
     "traceback": [
      "\u001b[0;31m---------------------------------------------------------------------------\u001b[0m",
      "\u001b[0;31mAttributeError\u001b[0m                            Traceback (most recent call last)",
      "Cell \u001b[0;32mIn [157], line 1\u001b[0m\n\u001b[0;32m----> 1\u001b[0m d\u001b[39m.\u001b[39;49mgroupby(\u001b[39m'\u001b[39;49m\u001b[39mpair_index\u001b[39;49m\u001b[39m'\u001b[39;49m)\u001b[39m.\u001b[39;49mto_json(\u001b[39m'\u001b[39m\u001b[39mgraph_inference_sets.json\u001b[39m\u001b[39m'\u001b[39m, orient\u001b[39m=\u001b[39m\u001b[39m'\u001b[39m\u001b[39mrecords\u001b[39m\u001b[39m'\u001b[39m)\n",
      "File \u001b[0;32m~/miniforge3/envs/color_projects/lib/python3.8/site-packages/pandas/core/groupby/groupby.py:981\u001b[0m, in \u001b[0;36mGroupBy.__getattr__\u001b[0;34m(self, attr)\u001b[0m\n\u001b[1;32m    978\u001b[0m \u001b[39mif\u001b[39;00m attr \u001b[39min\u001b[39;00m \u001b[39mself\u001b[39m\u001b[39m.\u001b[39mobj:\n\u001b[1;32m    979\u001b[0m     \u001b[39mreturn\u001b[39;00m \u001b[39mself\u001b[39m[attr]\n\u001b[0;32m--> 981\u001b[0m \u001b[39mraise\u001b[39;00m \u001b[39mAttributeError\u001b[39;00m(\n\u001b[1;32m    982\u001b[0m     \u001b[39mf\u001b[39m\u001b[39m\"\u001b[39m\u001b[39m'\u001b[39m\u001b[39m{\u001b[39;00m\u001b[39mtype\u001b[39m(\u001b[39mself\u001b[39m)\u001b[39m.\u001b[39m\u001b[39m__name__\u001b[39m\u001b[39m}\u001b[39;00m\u001b[39m'\u001b[39m\u001b[39m object has no attribute \u001b[39m\u001b[39m'\u001b[39m\u001b[39m{\u001b[39;00mattr\u001b[39m}\u001b[39;00m\u001b[39m'\u001b[39m\u001b[39m\"\u001b[39m\n\u001b[1;32m    983\u001b[0m )\n",
      "\u001b[0;31mAttributeError\u001b[0m: 'DataFrameGroupBy' object has no attribute 'to_json'"
     ]
    }
   ],
   "source": [
    "# d.groupby('pair_index').to_json('graph_inference_sets.json', orient='records')"
   ]
  },
  {
   "cell_type": "code",
   "execution_count": 158,
   "metadata": {},
   "outputs": [],
   "source": [
    "d_sub = d[['concept','congruence_cond','semantic_distance_cond','set_number','hex','uw_71','pair_index']]"
   ]
  },
  {
   "cell_type": "code",
   "execution_count": 160,
   "metadata": {},
   "outputs": [],
   "source": [
    "# create a nested json using dsub where pair index is the first key and then concept is the second key then congruence_cond is the third key and then semantic_distance_cond is the fourth key and hex is the value\n",
    "\n",
    "# d_sub.groupby(['pair_index','concept','congruence_cond','semantic_distance_cond']).to_json('graph_inference_sets.json', orient='index')"
   ]
  },
  {
   "cell_type": "code",
   "execution_count": 161,
   "metadata": {},
   "outputs": [],
   "source": [
    "\n",
    "\n",
    "# out = {'pair_index':d_sub.groupby('pair_index')['concept','congruence_cond','semantic_distance_cond','hex'].last().to_dict(orient='index')}"
   ]
  },
  {
   "cell_type": "code",
   "execution_count": 162,
   "metadata": {},
   "outputs": [],
   "source": [
    "# d_sub.groupby('pair_index')['concept','congruence_cond','semantic_distance_cond','hex'].last()"
   ]
  },
  {
   "cell_type": "code",
   "execution_count": 163,
   "metadata": {},
   "outputs": [],
   "source": [
    "# d_sub.head(200)"
   ]
  },
  {
   "cell_type": "code",
   "execution_count": 125,
   "metadata": {},
   "outputs": [
    {
     "data": {
      "text/plain": [
       "array([0, 1])"
      ]
     },
     "execution_count": 125,
     "metadata": {},
     "output_type": "execute_result"
    }
   ],
   "source": []
  },
  {
   "cell_type": "code",
   "execution_count": 164,
   "metadata": {},
   "outputs": [],
   "source": [
    "# final_dict = {}\n",
    "# semantic_dict = {}\n",
    "# concept_dict = {}\n",
    "# set_dict = {}\n",
    "# congruence_dict = {}\n",
    "# hex_dict = {}\n",
    "# for this_pair in d_sub.pair_index.unique():\n",
    "#     ds = d_sub[d_sub.pair_index==this_pair]\n",
    "#     for this_set in ds.set_number.unique():\n",
    "#         ds2 = ds[ds.set_number==this_set]\n",
    "#         for this_concept in ds2.concept.unique():\n",
    "#             print(ds2.concept.unique())\n",
    "#             ds3 = ds2[ds2.concept==this_concept]\n",
    "#             for this_congruence in ds3.congruence_cond.unique():\n",
    "#                 ds4 = ds3[ds3.congruence_cond==this_congruence]\n",
    "#                 for this_semantic in ds4.semantic_distance_cond.unique():\n",
    "#                     ds5 = ds4[ds4.semantic_distance_cond==this_semantic]\n",
    "                 \n",
    "#                     semantic_dict[str(this_semantic)] = ds5.hex.values[0]\n",
    "#                     # print(ds5.hex.values[0])\n",
    "#                 congruence_dict[str(this_congruence)] = semantic_dict\n",
    "#             concept_dict[str(this_concept)] = congruence_dict\n",
    "#         set_dict[str(this_set)] = concept_dict\n",
    "#     final_dict[str(this_pair)] = set_dict\n",
    "                  "
   ]
  },
  {
   "cell_type": "code",
   "execution_count": 172,
   "metadata": {},
   "outputs": [],
   "source": [
    "# final_dict = {}\n",
    "\n",
    "concept_dict = {}\n",
    "# set_dict = {}\n",
    "\n",
    "# hex_dict = {}\n",
    "\n",
    "for this_concept in d_sub.concept.unique():\n",
    "\n",
    "    ds = d_sub[d_sub.concept==this_concept]\n",
    "    congruence_dict = {}\n",
    "    for this_congruence in ds.congruence_cond.unique():\n",
    "        ds2 = ds[ds.congruence_cond==this_congruence]\n",
    "        semantic_dict = {}\n",
    "        for this_semantic in ds2.semantic_distance_cond.unique():\n",
    "            ds3 = ds2[ds2.semantic_distance_cond==this_semantic]\n",
    "            # print( ds3.hex.values[0])\n",
    "            semantic_dict[str(this_semantic)] = int(ds3.uw_71.values[0])\n",
    "        congruence_dict[str(this_congruence)] = semantic_dict\n",
    "    concept_dict[str(this_concept)] = congruence_dict\n",
    "\n",
    "\n",
    "                  "
   ]
  },
  {
   "cell_type": "code",
   "execution_count": 173,
   "metadata": {},
   "outputs": [
    {
     "data": {
      "text/plain": [
       "{'apple': {'True': {'HIGH': 62, 'LOW': 66}, 'False': {'HIGH': 47, 'LOW': 2}},\n",
       " 'peach': {'True': {'HIGH': 47, 'LOW': 2}, 'False': {'HIGH': 62, 'LOW': 66}},\n",
       " 'field': {'True': {'HIGH': 37, 'LOW': 8}, 'False': {'HIGH': 0, 'LOW': 11}},\n",
       " 'beach': {'True': {'HIGH': 0, 'LOW': 11}, 'False': {'HIGH': 37, 'LOW': 8}},\n",
       " 'celery': {'True': {'HIGH': 50, 'LOW': 11}, 'False': {'HIGH': 69, 'LOW': 44}},\n",
       " 'banana': {'True': {'HIGH': 69, 'LOW': 44}, 'False': {'HIGH': 50, 'LOW': 11}},\n",
       " 'peace': {'True': {'HIGH': 32, 'LOW': 63}, 'False': {'HIGH': 24, 'LOW': 26}},\n",
       " 'evil': {'True': {'HIGH': 24, 'LOW': 26}, 'False': {'HIGH': 32, 'LOW': 63}},\n",
       " 'love': {'True': {'HIGH': 34, 'LOW': 62}, 'False': {'HIGH': 26, 'LOW': 63}},\n",
       " 'justice': {'True': {'HIGH': 26, 'LOW': 63},\n",
       "  'False': {'HIGH': 34, 'LOW': 62}},\n",
       " 'cherry': {'True': {'HIGH': 62, 'LOW': 45}, 'False': {'HIGH': 14, 'LOW': 5}},\n",
       " 'grape': {'True': {'HIGH': 14, 'LOW': 5}, 'False': {'HIGH': 62, 'LOW': 45}},\n",
       " 'frog': {'True': {'HIGH': 50, 'LOW': 34}, 'False': {'HIGH': 70, 'LOW': 43}},\n",
       " 'lion': {'True': {'HIGH': 70, 'LOW': 43}, 'False': {'HIGH': 50, 'LOW': 34}},\n",
       " 'bear': {'True': {'HIGH': 24, 'LOW': 43}, 'False': {'HIGH': 4, 'LOW': 23}},\n",
       " 'fish': {'True': {'HIGH': 4, 'LOW': 23}, 'False': {'HIGH': 24, 'LOW': 43}},\n",
       " 'eating': {'True': {'HIGH': 69, 'LOW': 47}, 'False': {'HIGH': 24, 'LOW': 0}},\n",
       " 'sleeping': {'True': {'HIGH': 24, 'LOW': 0},\n",
       "  'False': {'HIGH': 69, 'LOW': 47}},\n",
       " 'wildfire': {'True': {'HIGH': 62, 'LOW': 63},\n",
       "  'False': {'HIGH': 42, 'LOW': 56}},\n",
       " 'sandstorm': {'True': {'HIGH': 42, 'LOW': 56},\n",
       "  'False': {'HIGH': 62, 'LOW': 63}},\n",
       " 'carrot': {'True': {'HIGH': 61, 'LOW': 62}, 'False': {'HIGH': 69, 'LOW': 23}},\n",
       " 'corn': {'True': {'HIGH': 69, 'LOW': 23}, 'False': {'HIGH': 61, 'LOW': 62}},\n",
       " 'mushroom': {'True': {'HIGH': 42, 'LOW': 31},\n",
       "  'False': {'HIGH': 7, 'LOW': 16}},\n",
       " 'eggplant': {'True': {'HIGH': 7, 'LOW': 16},\n",
       "  'False': {'HIGH': 42, 'LOW': 31}},\n",
       " 'blizzard': {'True': {'HIGH': 10, 'LOW': 23},\n",
       "  'False': {'HIGH': 42, 'LOW': 21}},\n",
       " 'drought': {'True': {'HIGH': 42, 'LOW': 21},\n",
       "  'False': {'HIGH': 10, 'LOW': 23}},\n",
       " 'glacial ice': {'True': {'HIGH': 28, 'LOW': 44},\n",
       "  'False': {'HIGH': 5, 'LOW': 24}},\n",
       " 'ocean water': {'True': {'HIGH': 5, 'LOW': 24},\n",
       "  'False': {'HIGH': 28, 'LOW': 44}},\n",
       " 'sunset': {'True': {'HIGH': 48, 'LOW': 42}, 'False': {'HIGH': 0, 'LOW': 28}},\n",
       " 'sky': {'True': {'HIGH': 0, 'LOW': 28}, 'False': {'HIGH': 48, 'LOW': 42}},\n",
       " 'sunshine': {'True': {'HIGH': 69, 'LOW': 69},\n",
       "  'False': {'HIGH': 25, 'LOW': 25}},\n",
       " 'shade': {'True': {'HIGH': 25, 'LOW': 25}, 'False': {'HIGH': 69, 'LOW': 69}}}"
      ]
     },
     "execution_count": 173,
     "metadata": {},
     "output_type": "execute_result"
    }
   ],
   "source": [
    "concept_dict"
   ]
  },
  {
   "cell_type": "code",
   "execution_count": 174,
   "metadata": {},
   "outputs": [
    {
     "data": {
      "text/html": [
       "<div>\n",
       "<style scoped>\n",
       "    .dataframe tbody tr th:only-of-type {\n",
       "        vertical-align: middle;\n",
       "    }\n",
       "\n",
       "    .dataframe tbody tr th {\n",
       "        vertical-align: top;\n",
       "    }\n",
       "\n",
       "    .dataframe thead th {\n",
       "        text-align: right;\n",
       "    }\n",
       "</style>\n",
       "<table border=\"1\" class=\"dataframe\">\n",
       "  <thead>\n",
       "    <tr style=\"text-align: right;\">\n",
       "      <th></th>\n",
       "      <th>concept</th>\n",
       "      <th>congruence_cond</th>\n",
       "      <th>semantic_distance_cond</th>\n",
       "      <th>set_number</th>\n",
       "      <th>hex</th>\n",
       "      <th>uw_71</th>\n",
       "      <th>pair_index</th>\n",
       "    </tr>\n",
       "  </thead>\n",
       "  <tbody>\n",
       "    <tr>\n",
       "      <th>0</th>\n",
       "      <td>apple</td>\n",
       "      <td>True</td>\n",
       "      <td>HIGH</td>\n",
       "      <td>1</td>\n",
       "      <td>#ea1d1d</td>\n",
       "      <td>62</td>\n",
       "      <td>0</td>\n",
       "    </tr>\n",
       "    <tr>\n",
       "      <th>32</th>\n",
       "      <td>apple</td>\n",
       "      <td>True</td>\n",
       "      <td>LOW</td>\n",
       "      <td>1</td>\n",
       "      <td>#aac510</td>\n",
       "      <td>66</td>\n",
       "      <td>1</td>\n",
       "    </tr>\n",
       "    <tr>\n",
       "      <th>64</th>\n",
       "      <td>apple</td>\n",
       "      <td>False</td>\n",
       "      <td>HIGH</td>\n",
       "      <td>1</td>\n",
       "      <td>#f1a78a</td>\n",
       "      <td>47</td>\n",
       "      <td>1</td>\n",
       "    </tr>\n",
       "    <tr>\n",
       "      <th>96</th>\n",
       "      <td>apple</td>\n",
       "      <td>False</td>\n",
       "      <td>LOW</td>\n",
       "      <td>1</td>\n",
       "      <td>#8558f4</td>\n",
       "      <td>2</td>\n",
       "      <td>1</td>\n",
       "    </tr>\n",
       "  </tbody>\n",
       "</table>\n",
       "</div>"
      ],
      "text/plain": [
       "   concept  congruence_cond semantic_distance_cond  set_number      hex  \\\n",
       "0    apple             True                   HIGH           1  #ea1d1d   \n",
       "32   apple             True                    LOW           1  #aac510   \n",
       "64   apple            False                   HIGH           1  #f1a78a   \n",
       "96   apple            False                    LOW           1  #8558f4   \n",
       "\n",
       "    uw_71  pair_index  \n",
       "0      62           0  \n",
       "32     66           1  \n",
       "64     47           1  \n",
       "96      2           1  "
      ]
     },
     "execution_count": 174,
     "metadata": {},
     "output_type": "execute_result"
    }
   ],
   "source": [
    "d_sub[d_sub.concept=='apple']"
   ]
  },
  {
   "cell_type": "code",
   "execution_count": 175,
   "metadata": {},
   "outputs": [],
   "source": [
    "# concept_dict.to_json('graph_inference_sets_2.js', orient='index')"
   ]
  },
  {
   "cell_type": "code",
   "execution_count": 176,
   "metadata": {},
   "outputs": [],
   "source": [
    "import json\n",
    "with open('graph_inference_sets_2.json', 'w') as json_file:\n",
    "     json.dump(concept_dict,json_file)\n"
   ]
  },
  {
   "cell_type": "code",
   "execution_count": 201,
   "metadata": {},
   "outputs": [],
   "source": [
    "import os\n",
    "import mysql.connector\n",
    "import pandas as pd\n",
    "import numpy as np\n",
    "import matplotlib.pyplot as plt\n",
    "from matplotlib.pyplot import figure\n",
    "from scipy import stats\n",
    "from collections import Counter\n"
   ]
  },
  {
   "cell_type": "code",
   "execution_count": 202,
   "metadata": {},
   "outputs": [
    {
     "name": "stdout",
     "output_type": "stream",
     "text": [
      "condition_log\n",
      "data_log\n",
      "register_log\n"
     ]
    }
   ],
   "source": [
    "\n",
    "\n",
    "db = mysql.connector.connect(\n",
    "   host=\"localhost\",\n",
    "    port= 3306,\n",
    "   user=\"kushinm\",\n",
    "   passwd=\"localtesting\",\n",
    "    db = 'graph_inference'\n",
    ")\n",
    "cursor = db.cursor()\n",
    "\n",
    "cursor.execute(\"SHOW TABLES\")    # execute 'SHOW TABLES' (but data is not returned)\n",
    "for (table_name,) in cursor:\n",
    "    print(table_name)\n",
    "\n",
    "table_name = 'condition_log'\n"
   ]
  },
  {
   "cell_type": "code",
   "execution_count": 198,
   "metadata": {},
   "outputs": [
    {
     "name": "stderr",
     "output_type": "stream",
     "text": [
      "/var/folders/62/ybvc3cw53hj40799y980__gr0000gn/T/ipykernel_39722/1078318219.py:1: UserWarning: pandas only supports SQLAlchemy connectable (engine/connection) or database string URI or sqlite3 DBAPI2 connection. Other DBAPI2 objects are not tested. Please consider using SQLAlchemy.\n",
      "  df = pd.read_sql_query(\"SELECT * FROM {}\".format(table_name),\n"
     ]
    }
   ],
   "source": [
    "df = pd.read_sql_query(\"SELECT * FROM {}\".format(table_name),\n",
    "    db) ### convert table into dataframe\n",
    "\n",
    "\n",
    "    "
   ]
  },
  {
   "cell_type": "code",
   "execution_count": 203,
   "metadata": {},
   "outputs": [],
   "source": [
    "# cursor.execute('DELETE from data_log')\n",
    "# db.commit()\n",
    "# cursor.execute('DELETE from condition_log')\n",
    "# db.commit()\n",
    "# cursor.execute('DELETE from register_log')\n",
    "# db.commit()"
   ]
  },
  {
   "cell_type": "code",
   "execution_count": 200,
   "metadata": {},
   "outputs": [
    {
     "data": {
      "text/html": [
       "<div>\n",
       "<style scoped>\n",
       "    .dataframe tbody tr th:only-of-type {\n",
       "        vertical-align: middle;\n",
       "    }\n",
       "\n",
       "    .dataframe tbody tr th {\n",
       "        vertical-align: top;\n",
       "    }\n",
       "\n",
       "    .dataframe thead th {\n",
       "        text-align: right;\n",
       "    }\n",
       "</style>\n",
       "<table border=\"1\" class=\"dataframe\">\n",
       "  <thead>\n",
       "    <tr style=\"text-align: right;\">\n",
       "      <th></th>\n",
       "      <th>rowID</th>\n",
       "      <th>subjectID</th>\n",
       "      <th>assignedCondition</th>\n",
       "    </tr>\n",
       "  </thead>\n",
       "  <tbody>\n",
       "    <tr>\n",
       "      <th>0</th>\n",
       "      <td>9</td>\n",
       "      <td>84jof02hkm</td>\n",
       "      <td>0</td>\n",
       "    </tr>\n",
       "    <tr>\n",
       "      <th>1</th>\n",
       "      <td>10</td>\n",
       "      <td>j9bwe5pnct</td>\n",
       "      <td>1</td>\n",
       "    </tr>\n",
       "    <tr>\n",
       "      <th>2</th>\n",
       "      <td>11</td>\n",
       "      <td>ulnv4l8ah3</td>\n",
       "      <td>2</td>\n",
       "    </tr>\n",
       "    <tr>\n",
       "      <th>3</th>\n",
       "      <td>12</td>\n",
       "      <td>d7xpx1czxq</td>\n",
       "      <td>3</td>\n",
       "    </tr>\n",
       "    <tr>\n",
       "      <th>4</th>\n",
       "      <td>13</td>\n",
       "      <td>yzr6lyqmf2</td>\n",
       "      <td>4</td>\n",
       "    </tr>\n",
       "    <tr>\n",
       "      <th>5</th>\n",
       "      <td>14</td>\n",
       "      <td>dhoghhha4h</td>\n",
       "      <td>5</td>\n",
       "    </tr>\n",
       "    <tr>\n",
       "      <th>6</th>\n",
       "      <td>15</td>\n",
       "      <td>kmkp59su8f</td>\n",
       "      <td>6</td>\n",
       "    </tr>\n",
       "    <tr>\n",
       "      <th>7</th>\n",
       "      <td>16</td>\n",
       "      <td>hmcfxwngqq</td>\n",
       "      <td>7</td>\n",
       "    </tr>\n",
       "    <tr>\n",
       "      <th>8</th>\n",
       "      <td>17</td>\n",
       "      <td>nrxqqs42ub</td>\n",
       "      <td>8</td>\n",
       "    </tr>\n",
       "    <tr>\n",
       "      <th>9</th>\n",
       "      <td>18</td>\n",
       "      <td>d36c4f4brt</td>\n",
       "      <td>9</td>\n",
       "    </tr>\n",
       "    <tr>\n",
       "      <th>10</th>\n",
       "      <td>19</td>\n",
       "      <td>s04znm4j6y</td>\n",
       "      <td>10</td>\n",
       "    </tr>\n",
       "    <tr>\n",
       "      <th>11</th>\n",
       "      <td>20</td>\n",
       "      <td>n3lrmxgx8f</td>\n",
       "      <td>11</td>\n",
       "    </tr>\n",
       "    <tr>\n",
       "      <th>12</th>\n",
       "      <td>21</td>\n",
       "      <td>kltl117zxy</td>\n",
       "      <td>12</td>\n",
       "    </tr>\n",
       "    <tr>\n",
       "      <th>13</th>\n",
       "      <td>22</td>\n",
       "      <td>s8thqjgs3t</td>\n",
       "      <td>13</td>\n",
       "    </tr>\n",
       "    <tr>\n",
       "      <th>14</th>\n",
       "      <td>23</td>\n",
       "      <td>5s1r2mc7el</td>\n",
       "      <td>14</td>\n",
       "    </tr>\n",
       "    <tr>\n",
       "      <th>15</th>\n",
       "      <td>24</td>\n",
       "      <td>1hf0zs998e</td>\n",
       "      <td>15</td>\n",
       "    </tr>\n",
       "    <tr>\n",
       "      <th>16</th>\n",
       "      <td>25</td>\n",
       "      <td>05196xsw58</td>\n",
       "      <td>0</td>\n",
       "    </tr>\n",
       "    <tr>\n",
       "      <th>17</th>\n",
       "      <td>26</td>\n",
       "      <td>7nacqj9vj8</td>\n",
       "      <td>1</td>\n",
       "    </tr>\n",
       "    <tr>\n",
       "      <th>18</th>\n",
       "      <td>27</td>\n",
       "      <td>dgn8buhthx</td>\n",
       "      <td>2</td>\n",
       "    </tr>\n",
       "    <tr>\n",
       "      <th>19</th>\n",
       "      <td>28</td>\n",
       "      <td>0y2sf80dge</td>\n",
       "      <td>3</td>\n",
       "    </tr>\n",
       "  </tbody>\n",
       "</table>\n",
       "</div>"
      ],
      "text/plain": [
       "    rowID   subjectID  assignedCondition\n",
       "0       9  84jof02hkm                  0\n",
       "1      10  j9bwe5pnct                  1\n",
       "2      11  ulnv4l8ah3                  2\n",
       "3      12  d7xpx1czxq                  3\n",
       "4      13  yzr6lyqmf2                  4\n",
       "5      14  dhoghhha4h                  5\n",
       "6      15  kmkp59su8f                  6\n",
       "7      16  hmcfxwngqq                  7\n",
       "8      17  nrxqqs42ub                  8\n",
       "9      18  d36c4f4brt                  9\n",
       "10     19  s04znm4j6y                 10\n",
       "11     20  n3lrmxgx8f                 11\n",
       "12     21  kltl117zxy                 12\n",
       "13     22  s8thqjgs3t                 13\n",
       "14     23  5s1r2mc7el                 14\n",
       "15     24  1hf0zs998e                 15\n",
       "16     25  05196xsw58                  0\n",
       "17     26  7nacqj9vj8                  1\n",
       "18     27  dgn8buhthx                  2\n",
       "19     28  0y2sf80dge                  3"
      ]
     },
     "execution_count": 200,
     "metadata": {},
     "output_type": "execute_result"
    }
   ],
   "source": [
    "df.head(20)"
   ]
  },
  {
   "cell_type": "code",
   "execution_count": null,
   "metadata": {},
   "outputs": [],
   "source": []
  }
 ],
 "metadata": {
  "kernelspec": {
   "display_name": "Python 3.8.13 ('color_projects')",
   "language": "python",
   "name": "python3"
  },
  "language_info": {
   "codemirror_mode": {
    "name": "ipython",
    "version": 3
   },
   "file_extension": ".py",
   "mimetype": "text/x-python",
   "name": "python",
   "nbconvert_exporter": "python",
   "pygments_lexer": "ipython3",
   "version": "3.8.13"
  },
  "orig_nbformat": 4,
  "vscode": {
   "interpreter": {
    "hash": "f536fd7e1cdea2415bbc798359121aa3682c28f3fe13385c9782a52f23a8ee71"
   }
  }
 },
 "nbformat": 4,
 "nbformat_minor": 2
}
